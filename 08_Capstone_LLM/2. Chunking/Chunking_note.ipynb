{
 "cells": [
  {
   "cell_type": "markdown",
   "id": "260710cc",
   "metadata": {},
   "source": [
    "# C h u n k i n g \n",
    "Nov 2024\n",
    "#### SJ.Park"
   ]
  },
  {
   "cell_type": "markdown",
   "id": "14946d07",
   "metadata": {},
   "source": [
    "## 1. Chonkie \n",
    "### Token Chunker\n",
    "https://github.com/bhavnicksm/chonkie"
   ]
  },
  {
   "cell_type": "code",
   "execution_count": 1,
   "id": "ca182680",
   "metadata": {},
   "outputs": [
    {
     "name": "stdout",
     "output_type": "stream",
     "text": [
      "Chunk: Woah! Chonkie, the chunking library is so cool! I love the tiny hippo hehe.\n",
      "Tokens: 24\n"
     ]
    }
   ],
   "source": [
    "from chonkie import TokenChunker\n",
    "from tokenizers import Tokenizer\n",
    "\n",
    "tokenizer = Tokenizer.from_pretrained(\"gpt2\")\n",
    "chunker = TokenChunker(tokenizer)\n",
    "\n",
    "text = \"Woah! Chonkie, the chunking library is so cool! I love the tiny hippo hehe.\"\n",
    "chunks = chunker(text)\n",
    "\n",
    "for chunk in chunks:\n",
    "    print(f\"Chunk: {chunk.text}\")\n",
    "    print(f\"Tokens: {chunk.token_count}\")"
   ]
  },
  {
   "cell_type": "markdown",
   "id": "ad6e2747",
   "metadata": {},
   "source": [
    "### Result Description:\n",
    "\n",
    "Copy Code\n",
    "\"Woah! Chonkie, the chunking library is so cool! I love the tiny hippo hehe.\"\n",
    "This text undergoes the chunking process by the chunker.\n",
    "Role of the Tokenizer:\n",
    "\n",
    "The pre-trained GPT-2 tokenizer splits the text into smaller units (tokens).\n",
    "For example, the text \"Woah! Chonkie\" can be split into the following tokens:\n",
    "plaintext\n",
    "Copy Code\n",
    "['Woah', '!', 'ĠChonkie', ',', 'Ġthe', 'Ġchunking', ...]\n",
    "(Here, Ġ represents a space.)\n",
    "\n",
    "Role of the TokenChunker:\n",
    "\n",
    "The TokenChunker groups the tokens split by the tokenizer into chunks.\n",
    "The above result shows that the entire text is grouped into a single chunk.\n",
    "\n",
    "Result Interpretation:\n",
    "\n",
    "Chunk: Outputs the text chunk itself.\n",
    "The result shows that the input text is processed as a single chunk.\n",
    "Tokens: Outputs the number of tokens within the chunk.\n",
    "It indicates that the input text is split into 24 tokens.\n",
    "\n",
    "Why is it processed as a single chunk?\n",
    "By default, the TokenChunker sets criteria for dividing the text into chunks. These criteria can be based on a fixed number of tokens, words, sentences, etc.\n",
    "Since there was no explicit setting for chunk size in the code, the entire text appears to have been processed as a single chunk.\n",
    "For instance, if the chunk size had been set, the text might have been divided into smaller chunks."
   ]
  },
  {
   "cell_type": "code",
   "execution_count": 2,
   "id": "05e3d76c",
   "metadata": {},
   "outputs": [
    {
     "name": "stdout",
     "output_type": "stream",
     "text": [
      "Chunk: Woah! Chonkie, the chunking\n",
      "Tokens: 10\n",
      "Chunk:  the chunking library is so cool! I love\n",
      "Tokens: 10\n",
      "Chunk: ! I love the tiny hippo hehe.\n",
      "Tokens: 10\n",
      "Chunk:  hehe.\n",
      "Tokens: 3\n"
     ]
    }
   ],
   "source": [
    "chunker = TokenChunker(tokenizer, chunk_size=10, chunk_overlap=3) \n",
    "chunks = chunker(text)\n",
    "\n",
    "for chunk in chunks:\n",
    "    print(f\"Chunk: {chunk.text}\")\n",
    "    print(f\"Tokens: {chunk.token_count}\")"
   ]
  },
  {
   "cell_type": "markdown",
   "id": "818b5ebf",
   "metadata": {},
   "source": [
    "\"Chunk: Woah! Chonkie, the chunking\" is considered to have 10 tokens because of the way the GPT-2 tokenizer splits text. This is not simply a word count; instead, it uses the Byte-Pair Encoding (BPE) method to process the text, breaking it down into smaller units (tokens).\n",
    "\n",
    "What is a Token?\n",
    "A token is a smaller unit that makes up a text.\n",
    "The GPT-2 tokenizer treats not only words but also subwords, characters, and even spaces as tokens.\n",
    "Therefore, text like \"Woah! Chonkie, the chunking,\" which appears to consist of 5 words, can actually be split into 10 tokens."
   ]
  },
  {
   "cell_type": "code",
   "execution_count": 3,
   "id": "38986eb0",
   "metadata": {},
   "outputs": [
    {
     "name": "stdout",
     "output_type": "stream",
     "text": [
      "Tokens: ['Wo', 'ah', '!', 'ĠCh', 'on', 'kie', ',', 'Ġthe', 'Ġchunk', 'ing']\n",
      "Token Count: 10\n"
     ]
    }
   ],
   "source": [
    "from transformers import GPT2Tokenizer\n",
    "\n",
    "# Initialize the GPT-2 tokenizer\n",
    "tokenizer = GPT2Tokenizer.from_pretrained(\"gpt2\")\n",
    "\n",
    "# Text\n",
    "text = \"Woah! Chonkie, the chunking\"\n",
    "\n",
    "# Tokenize using the tokenizer\n",
    "tokens = tokenizer.tokenize(text)\n",
    "print(\"Tokens:\", tokens)\n",
    "print(\"Token Count:\", len(tokens))"
   ]
  },
  {
   "cell_type": "markdown",
   "id": "c2a6d049",
   "metadata": {},
   "source": [
    "#### Why Did This Result Occur?\n",
    "Subword Segmentation:\n",
    "The GPT-2 tokenizer divides long or complex words into smaller units called subwords.\n",
    "\n",
    "Example: \"Woah\" → ['Wo', 'ah']\n",
    "Separation of Special Characters:\n",
    "Special characters such as ! and , are treated as independent tokens.\n",
    "\n",
    "Example: \"!\" → ['!'], \",\" → [',']\n",
    "Prefix Ġ Representing Spaces:\n",
    "The GPT-2 tokenizer uses the prefix Ġ to represent spaces preceding words.\n",
    "\n",
    "Example: \" the\" → ['Ġthe'], \" chunk\" → ['Ġchunk']\n",
    "Subword Splitting Patterns:\n",
    "\"Chonkie\" → ['ĠCh', 'on', 'kie']\n",
    "The word \"Chonkie\" is split into Ch, on, and kie at the subword level.\n",
    "\"chunking\" → ['Ġchunk', 'ing']\n",
    "Similarly, \"chunking\" is divided into chunk and ing.\n",
    "This segmentation occurs because the Byte-Pair Encoding (BPE) method used by GPT-2's tokenizer optimizes for a balance between frequent word parts and flexibility to handle rare words."
   ]
  },
  {
   "cell_type": "code",
   "execution_count": 6,
   "id": "05a0dbd6",
   "metadata": {},
   "outputs": [
    {
     "name": "stdout",
     "output_type": "stream",
     "text": [
      "Token IDs: [49450, 993, 0, 609, 261, 49375, 11, 262, 16058, 278]\n"
     ]
    }
   ],
   "source": [
    "# Convert tokens to IDs\n",
    "token_ids = tokenizer.convert_tokens_to_ids(tokens)\n",
    "print(\"Token IDs:\", token_ids)"
   ]
  },
  {
   "cell_type": "markdown",
   "id": "7ffc64f2",
   "metadata": {},
   "source": [
    "#### Role of Token IDs: Numeric Representation of Text\n",
    "\n",
    "Computers and deep learning models cannot directly understand text data, so it must be converted into numbers (IDs).\n",
    "For example, \"Woah\" is converted to 15432, and \"!\" is converted to 50256.\n",
    "\n",
    "Vocabulary-Based Mapping\n",
    "\n",
    "The tokenizer uses a **vocabulary**, a dictionary that defines a unique numeric ID for every possible token.\n",
    "Example: \"Woah\" might be the 15432nd entry in the vocabulary.\n",
    "\n",
    "Preparing Data for Model Input\n",
    "\n",
    "To input text data into a model, it must be converted into an array of token IDs.\n",
    "Example: The text \"Woah! Chonkie\" → [15432, 50256, 31289]\n",
    "\n",
    "The GPT-2 vocabulary size is approximately 50,257, meaning each token ID is a value between 0 and 50,256.\n",
    "\n",
    "Vocabulary Sizes of Major Models\n",
    "\n",
    "#### GPT Series (OpenAI)\n",
    "- **GPT-2**: ~50,257 tokens  \n",
    "  Uses the Byte Pair Encoding (BPE) method.\n",
    "- **GPT-3**: ~50,257 tokens  \n",
    "  Uses the same tokenizer as GPT-2.\n",
    "#### BERT Series (Google)\n",
    "- **BERT-base/large**: ~30,522 tokens  \n",
    "  Uses the WordPiece tokenizer.\n",
    "- **ALBERT**: ~30,000 tokens  \n",
    "  A simplified version of BERT's WordPiece tokenizer.\n",
    "#### T5 (Google)\n",
    "- **T5** (Text-to-Text Transfer Transformer): ~32,000 tokens  \n",
    "  Uses the SentencePiece tokenizer.\n",
    "#### RoBERTa (Facebook)\n",
    "- **RoBERTa**: ~50,265 tokens  \n",
    "  Uses the BPE method similar to GPT.\n",
    "#### DistilBERT (Hugging Face)\n",
    "- **DistilBERT**: ~30,522 tokens  \n",
    "  Uses BERT's WordPiece tokenizer.\n",
    "#### XLNet (Google & CMU)\n",
    "- **XLNet-base/large**: ~32,000 tokens  \n",
    "  Uses the SentencePiece tokenizer.\n",
    "#### Bloom (BigScience)\n",
    "- **Bloom**: ~250,680 tokens  \n",
    "  A multilingual model covering a wide range of languages.\n",
    "#### LLaMA (Meta)\n",
    "- **LLaMA**: ~32,000 tokens  \n",
    "  Based on SentencePiece with a BPE-style approach.\n",
    "#### CLIP (OpenAI)\n",
    "- **CLIP**: ~49,408 tokens  \n",
    "  A model for combining text and image inputs, uses the BPE method."
   ]
  },
  {
   "cell_type": "markdown",
   "id": "4dbaaedf",
   "metadata": {},
   "source": [
    "#### Relationship Between Vocabulary Size and Model Performance\n",
    "\n",
    "#### When the Vocabulary Size is Large:\n",
    "\n",
    "**Advantages:**\n",
    "- Better capability to handle diverse languages, syntax, and words.\n",
    "- Increased expressiveness, including rare words and special characters.\n",
    "\n",
    "**Disadvantages:**\n",
    "- Requires more memory and computation during model training and inference.\n",
    "- If the vocabulary is excessively large, sparsity issues may arise.\n",
    "\n",
    "#### When the Vocabulary Size is Small:\n",
    "\n",
    "**Advantages:**\n",
    "- Higher computational efficiency and reduced memory usage.\n",
    "- Generally leads to faster training speeds.\n",
    "\n",
    "**Disadvantages:**\n",
    "- May fail to represent rare words effectively.\n",
    "- Some words might be overly fragmented into subwords.\n"
   ]
  },
  {
   "cell_type": "markdown",
   "id": "1e0fb576",
   "metadata": {},
   "source": [
    "# 2. Chunking by Each Tool\n",
    "\n",
    "**TokenChunker:** Splits text into chunks of a fixed token size.\n",
    "\n",
    "**WordChunker:** Splits text into chunks based on words.\n",
    "\n",
    "**SentenceChunker:** Splits text into chunks based on sentences.\n",
    "\n",
    "**SemanticChunker:** Splits text into chunks based on semantic similarity.\n",
    "\n",
    "**SDPMChunker:** Splits text into chunks using the Semantic Double-Pass Merge method.\n"
   ]
  },
  {
   "cell_type": "code",
   "execution_count": 9,
   "id": "91e4be78",
   "metadata": {},
   "outputs": [
    {
     "name": "stdout",
     "output_type": "stream",
     "text": [
      "['__annotations__', '__class__', '__dataclass_fields__', '__dataclass_params__', '__delattr__', '__dir__', '__doc__', '__eq__', '__format__', '__ge__', '__getattribute__', '__gt__', '__hash__', '__init__', '__init_subclass__', '__le__', '__lt__', '__module__', '__ne__', '__new__', '__reduce__', '__reduce_ex__', '__repr__', '__setattr__', '__sizeof__', '__slots__', '__str__', '__subclasshook__', 'end_index', 'start_index', 'text', 'token_count']\n",
      "['__annotations__', '__class__', '__dataclass_fields__', '__dataclass_params__', '__delattr__', '__dir__', '__doc__', '__eq__', '__format__', '__ge__', '__getattribute__', '__gt__', '__hash__', '__init__', '__init_subclass__', '__le__', '__lt__', '__module__', '__ne__', '__new__', '__reduce__', '__reduce_ex__', '__repr__', '__setattr__', '__sizeof__', '__slots__', '__str__', '__subclasshook__', 'end_index', 'start_index', 'text', 'token_count']\n",
      "['__annotations__', '__class__', '__dataclass_fields__', '__dataclass_params__', '__delattr__', '__dir__', '__doc__', '__eq__', '__format__', '__ge__', '__getattribute__', '__gt__', '__hash__', '__init__', '__init_subclass__', '__le__', '__lt__', '__module__', '__ne__', '__new__', '__reduce__', '__reduce_ex__', '__repr__', '__setattr__', '__sizeof__', '__slots__', '__str__', '__subclasshook__', 'end_index', 'start_index', 'text', 'token_count']\n",
      "['__annotations__', '__class__', '__dataclass_fields__', '__dataclass_params__', '__delattr__', '__dir__', '__doc__', '__eq__', '__format__', '__ge__', '__getattribute__', '__gt__', '__hash__', '__init__', '__init_subclass__', '__le__', '__lt__', '__module__', '__ne__', '__new__', '__reduce__', '__reduce_ex__', '__repr__', '__setattr__', '__sizeof__', '__slots__', '__str__', '__subclasshook__', 'end_index', 'start_index', 'text', 'token_count']\n"
     ]
    }
   ],
   "source": [
    "for chunk in chunks:\n",
    "    print(dir(chunk))"
   ]
  },
  {
   "cell_type": "markdown",
   "id": "b1969ce0",
   "metadata": {},
   "source": [
    "## 1. WordChunker"
   ]
  },
  {
   "cell_type": "code",
   "execution_count": 10,
   "id": "2e7f30aa",
   "metadata": {},
   "outputs": [
    {
     "name": "stdout",
     "output_type": "stream",
     "text": [
      "Chunk: Woah!\n",
      "Token Count: 3\n",
      "Chunk: Chonkie, the\n",
      "Token Count: 5\n",
      "Chunk: the chunking library is\n",
      "Token Count: 5\n",
      "Chunk: library is so cool!\n",
      "Token Count: 5\n",
      "Chunk: cool! I love the\n",
      "Token Count: 5\n",
      "Chunk: love the tiny hippo\n",
      "Token Count: 5\n",
      "Chunk: hippo hehe.\n",
      "Token Count: 5\n"
     ]
    }
   ],
   "source": [
    "from chonkie import WordChunker\n",
    "\n",
    "# Initialize WordChunker\n",
    "chunker = WordChunker(chunk_size=5, chunk_overlap=2)\n",
    "\n",
    "# Input text\n",
    "text = \"Woah! Chonkie, the chunking library is so cool! I love the tiny hippo hehe.\"\n",
    "\n",
    "# Generate chunks\n",
    "chunks = chunker(text)\n",
    "\n",
    "# Print results\n",
    "for chunk in chunks:\n",
    "    print(f\"Chunk: {chunk.text}\")\n",
    "    print(f\"Token Count: {chunk.token_count}\")  # Using the token_count attribute"
   ]
  },
  {
   "cell_type": "markdown",
   "id": "1ebadec0",
   "metadata": {},
   "source": [
    "### Behavior Based on Chunking Settings\n",
    "\n",
    "**chunk_size=5:**\n",
    "- Each chunk can contain up to 5 words.\n",
    "- If fewer than 5 words remain at the end of the text, a chunk with fewer words is created.\n",
    "\n",
    "**chunk_overlap=2:**\n",
    "- There is an overlap of 2 words between adjacent chunks.\n",
    "- Example:\n",
    "  - Chunk 2: \"Chonkie, the\"\n",
    "  - Chunk 3: \"the chunking library is\"\n",
    "\n",
    "**Difference Between Token Count and Word Count:**\n",
    "- The number of tokens in the text can differ from the number of words due to special characters and spaces.\n",
    "- For example, `\"Woah!\"` is split into **[Wo, ah, !]**, resulting in 3 tokens.\n"
   ]
  },
  {
   "cell_type": "markdown",
   "id": "e3ce3aa6",
   "metadata": {},
   "source": [
    "## 2. SentenceChunker"
   ]
  },
  {
   "cell_type": "code",
   "execution_count": 11,
   "id": "e5356220",
   "metadata": {},
   "outputs": [
    {
     "data": {
      "application/vnd.jupyter.widget-view+json": {
       "model_id": "424507f3a46a4c5db89fa16a9cf9c813",
       "version_major": 2,
       "version_minor": 0
      },
      "text/plain": [
       "Fetching 5 files:   0%|          | 0/5 [00:00<?, ?it/s]"
      ]
     },
     "metadata": {},
     "output_type": "display_data"
    },
    {
     "name": "stdout",
     "output_type": "stream",
     "text": [
      "Chunk 1: Artificial intelligence is transforming industries. It is widely used in healthcare, finance, and technology. However, ethical concerns remain a challenge. Proper regulation and transparency are necessary for its growth.\n",
      "Number of sentences: 4\n"
     ]
    }
   ],
   "source": [
    "import json\n",
    "from chonkie import SentenceChunker\n",
    "from autotiktokenizer import AutoTikTokenizer\n",
    "\n",
    "# Initialize the tokenizer\n",
    "AutoTikTokenizer._read_json = lambda self, path: json.load(open(path, 'r', encoding='utf-8'))\n",
    "\n",
    "# Initialize GPT-2 tokenizer\n",
    "tokenizer = AutoTikTokenizer.from_pretrained(\"gpt2\")\n",
    "\n",
    "# Initialize SentenceChunker\n",
    "chunker = SentenceChunker(\n",
    "    tokenizer=tokenizer,\n",
    "    chunk_size=512,\n",
    "    chunk_overlap=128,\n",
    "    min_sentences_per_chunk=1\n",
    ")\n",
    "\n",
    "# Input text\n",
    "text =\"\"\"\n",
    "    Artificial intelligence is transforming industries. \n",
    "    It is widely used in healthcare, finance, and technology. \n",
    "    However, ethical concerns remain a challenge. \n",
    "    Proper regulation and transparency are necessary for its growth.\n",
    "    \"\"\".replace(\"\\n\", \" \")\n",
    "\n",
    "# Generate chunks\n",
    "chunks = chunker.chunk(text)\n",
    "\n",
    "# Print results\n",
    "for idx, chunk in enumerate(chunks):\n",
    "    print(f\"Chunk {idx + 1}: {chunk.text}\")\n",
    "    print(f\"Number of sentences: {len(chunk.sentences)}\")"
   ]
  },
  {
   "cell_type": "code",
   "execution_count": 12,
   "id": "4274175f",
   "metadata": {},
   "outputs": [
    {
     "name": "stdout",
     "output_type": "stream",
     "text": [
      "Chunk 1: Artificial intelligence is transforming industries. It is widely used in healthcare, finance, and technology.\n",
      "Number of sentences: 2\n",
      "Chunk 2: However, ethical concerns remain a challenge. Proper regulation and transparency are necessary for its growth.\n",
      "Number of sentences: 2\n",
      "Chunk 1: Artificial intelligence is transforming industries. It is widely used in healthcare, finance, and technology.\n",
      "Number of sentences: 2\n",
      "Chunk 2: However, ethical concerns remain a challenge. Proper regulation and transparency are necessary for its growth.\n",
      "Number of sentences: 2\n",
      "Chunk 3: AI models like GPT are helping researchers worldwide.\n",
      "Number of sentences: 1\n",
      "Chunk 4: Still, challenges in scalability and resource allocation persist.\n",
      "Number of sentences: 1\n"
     ]
    }
   ],
   "source": [
    "chunker = SentenceChunker(\n",
    "    tokenizer=tokenizer,\n",
    "    chunk_size=20,  # smaller chunk size\n",
    "    chunk_overlap=5,\n",
    "    min_sentences_per_chunk=1\n",
    ")\n",
    "\n",
    "chunks = chunker.chunk(text)\n",
    "\n",
    "for idx, chunk in enumerate(chunks):\n",
    "    print(f\"Chunk {idx + 1}: {chunk.text}\")\n",
    "    print(f\"Number of sentences: {len(chunk.sentences)}\")\n",
    "\n",
    "text = \"\"\"\n",
    "    Artificial intelligence is transforming industries. \n",
    "    It is widely used in healthcare, finance, and technology. \n",
    "    However, ethical concerns remain a challenge. \n",
    "    Proper regulation and transparency are necessary for its growth. \n",
    "    AI models like GPT are helping researchers worldwide. \n",
    "    Still, challenges in scalability and resource allocation persist.\n",
    "\"\"\".replace(\"\\n\", \" \")\n",
    "\n",
    "chunks = chunker.chunk(text)\n",
    "\n",
    "for idx, chunk in enumerate(chunks):\n",
    "    print(f\"Chunk {idx + 1}: {chunk.text}\")\n",
    "    print(f\"Number of sentences: {len(chunk.sentences)}\")"
   ]
  },
  {
   "cell_type": "markdown",
   "id": "7fb62d94",
   "metadata": {},
   "source": [
    "## 3. SemanticChunker\n",
    "\n",
    "**SemanticChunker** is a tool that divides text based on syntactic and semantic criteria. While traditional chunking tools split text based on simple metrics such as word count, sentence count, or token count, SemanticChunker analyzes the meaning and context of the text to segment it into appropriate units. This tool is particularly useful for dividing long documents into sections based on topics.\n"
   ]
  },
  {
   "cell_type": "code",
   "execution_count": 13,
   "id": "4dd28c13",
   "metadata": {},
   "outputs": [
    {
     "name": "stdout",
     "output_type": "stream",
     "text": [
      "Chunk 1: Artificial intelligence (AI) is transforming industries and reshaping the way we work. In healthcare, AI is being used for diagnostic purposes and to develop personalized treatment plans. In finance, it has revolutionized fraud detection and automated trading systems. However, despite its many advantages, AI also poses significant ethical concerns. Issues such as data privacy, algorithmic bias, and job displacement are at the forefront of discussions.\n",
      "Number of semantic sentences: 4\n",
      "Chunk 2: Proper regulation and transparency are essential to address these challenges.\n",
      "Number of semantic sentences: 1\n",
      "Chunk 3: On the other hand, AI models like GPT are enabling researchers and developers to build innovative solutions. These models can generate human-like text, translate languages, and even create art.\n",
      "Number of semantic sentences: 2\n",
      "Chunk 4: Still, scalability and resource allocation remain persistent challenges. Addressing these issues will require collaboration between governments, industries, and academic institutions.\n",
      "Number of semantic sentences: 2\n"
     ]
    }
   ],
   "source": [
    "from chonkie import SemanticChunker\n",
    "\n",
    "# Initialize SemanticChunker\n",
    "chunker = SemanticChunker(\n",
    "    embedding_model=\"all-mpnet-base-v2\",  # Embedding model\n",
    "    max_chunk_size=512,                  # Maximum tokens per chunk\n",
    "    similarity_threshold=0.4,            # Sentence similarity threshold\n",
    "    initial_sentences=2                  # Minimum 2 sentences per chunk\n",
    ")\n",
    "\n",
    "# Input text\n",
    "text = \"\"\"\n",
    "Artificial intelligence (AI) is transforming industries and reshaping the way we work.\n",
    "In healthcare, AI is being used for diagnostic purposes and to develop personalized treatment plans.\n",
    "In finance, it has revolutionized fraud detection and automated trading systems.\n",
    "However, despite its many advantages, AI also poses significant ethical concerns.\n",
    "Issues such as data privacy, algorithmic bias, and job displacement are at the forefront of discussions.\n",
    "Proper regulation and transparency are essential to address these challenges.\n",
    "On the other hand, AI models like GPT are enabling researchers and developers to build innovative solutions.\n",
    "These models can generate human-like text, translate languages, and even create art.\n",
    "Still, scalability and resource allocation remain persistent challenges.\n",
    "Addressing these issues will require collaboration between governments, industries, and academic institutions.\n",
    "\"\"\".replace(\"\\n\", \" \")  \n",
    "\n",
    "# Generate chunks\n",
    "chunks = chunker.chunk(text)\n",
    "\n",
    "# Print results\n",
    "for idx, chunk in enumerate(chunks):\n",
    "    print(f\"Chunk {idx + 1}: {chunk.text}\")\n",
    "    print(f\"Number of semantic sentences: {len(chunk.sentences)}\")\n"
   ]
  },
  {
   "cell_type": "markdown",
   "id": "f00d2d3c",
   "metadata": {},
   "source": [
    "| Model                           | Speed         | Accuracy     | Use Cases                         |\n",
    "|---------------------------------|---------------|--------------|-----------------------------------|\n",
    "| `all-minilm-l6-v2`              | Very Fast     | Moderate     | General document processing, fast similarity calculations |\n",
    "| `all-mpnet-base-v2`             | Moderate      | High         | High-quality document chunking and analysis |\n",
    "| `multi-qa-mpnet-base-dot-v1`    | Moderate      | High         | Search, QA systems                |\n",
    "| `paraphrase-mpnet-base-v2`      | Moderate      | Very High    | Sentence rephrasing, semantic similarity analysis |\n",
    "| `openai/text-embedding-ada-002` | Slow (API-based)| Very High   | Precision analysis, large-scale tasks |\n",
    "| `all-distilroberta-v1`          | Very Fast     | High         | Multipurpose embedding generation |\n"
   ]
  },
  {
   "cell_type": "markdown",
   "id": "e09bf763",
   "metadata": {},
   "source": [
    "## 4. SDPMChunker: Semantic Double-Pass Merge"
   ]
  },
  {
   "cell_type": "code",
   "execution_count": 14,
   "id": "3cec5aea",
   "metadata": {},
   "outputs": [
    {
     "name": "stdout",
     "output_type": "stream",
     "text": [
      "Chunk 1: Artificial intelligence (AI) is transforming industries and reshaping the way we work. In healthcare, AI is being used for diagnostic purposes and to develop personalized treatment plans. In finance, it has revolutionized fraud detection and automated trading systems. However, despite its many advantages, AI also poses significant ethical concerns.\n",
      "Number of semantic sentences: 4\n",
      "Chunk 2: Proper regulation and transparency are essential to address these challenges. On the other hand, AI models like GPT are enabling researchers and developers to build innovative solutions. These models can generate human-like text, translate languages, and even create art. Still, scalability and resource allocation remain persistent challenges. Collaboration between governments, industries, and academic institutions is essential to address these issues. Proper regulation will be key in ensuring that the benefits of AI outweigh its risks in the long term.\n",
      "Number of semantic sentences: 6\n"
     ]
    }
   ],
   "source": [
    "from chonkie import SDPMChunker\n",
    "\n",
    "# Initialize SDPMChunker\n",
    "chunker = SDPMChunker(\n",
    "    embedding_model=\"all-mpnet-base-v2\",  # Embedding model\n",
    "    max_chunk_size=512,                  # Maximum tokens per chunk\n",
    "    similarity_threshold=0.4,            # Similarity threshold\n",
    "    skip_window=2                         # Allow non-contiguous chunk merging\n",
    ")\n",
    "\n",
    "# Input text\n",
    "text = \"\"\"\n",
    "Artificial intelligence (AI) is transforming industries and reshaping the way we work.\n",
    "In healthcare, AI is being used for diagnostic purposes and to develop personalized treatment plans.\n",
    "In finance, it has revolutionized fraud detection and automated trading systems.\n",
    "However, despite its many advantages, AI also poses significant ethical concerns.\n",
    "Proper regulation and transparency are essential to address these challenges.\n",
    "On the other hand, AI models like GPT are enabling researchers and developers to build innovative solutions.\n",
    "These models can generate human-like text, translate languages, and even create art.\n",
    "Still, scalability and resource allocation remain persistent challenges.\n",
    "Collaboration between governments, industries, and academic institutions is essential to address these issues.\n",
    "Proper regulation will be key in ensuring that the benefits of AI outweigh its risks in the long term.\n",
    "\"\"\"\n",
    "\n",
    "# Generate chunks\n",
    "chunks = chunker.chunk(text)\n",
    "\n",
    "# Print results\n",
    "for idx, chunk in enumerate(chunks):\n",
    "    print(f\"Chunk {idx + 1}: {chunk.text}\")\n",
    "    print(f\"Number of semantic sentences: {len(chunk.sentences)}\")"
   ]
  },
  {
   "cell_type": "markdown",
   "id": "04336740",
   "metadata": {},
   "source": [
    "### Use of `skip_window`\n",
    "\n",
    "When `skip_window=n` is set, the similarity is evaluated by skipping up to `n` chunks from the current chunk.  \n",
    "For example, with `skip_window=2`:\n",
    "- Sentence 1 is compared for similarity with Sentence 2 and Sentence 3.\n",
    "- Sentence 2 is compared for similarity with Sentence 3 and Sentence 4.\n",
    "\n",
    "Even if there are non-contiguous relationships, chunks can be merged if they are semantically related.\n"
   ]
  },
  {
   "cell_type": "markdown",
   "id": "140bd4b2",
   "metadata": {},
   "source": [
    "### SDPMChunker vs SemanticChunker\n",
    "\n",
    "| **Feature**          | **SDPMChunker**                                     | **SemanticChunker**                           |\n",
    "|-----------------------|----------------------------------------------------|-----------------------------------------------|\n",
    "| **Operation**         | Semantic Double-Pass Merge: Proceeds in two stages, merges even non-contiguous paragraphs | Single-pass, evaluates similarity only between adjacent sentences or paragraphs |\n",
    "| **Merging Scope**     | Can merge non-contiguous chunks if similarity is detected | Focuses only on similarity between adjacent chunks |\n",
    "| **`skip_window` Usage** | Allows specifying the range of non-contiguous chunks to search during merging | Not supported                                 |\n",
    "| **Application**       | Suitable for long documents with scattered topics  | Best for short or structured text with logical connections between sentences |\n",
    "| **Merging Method**    | Re-evaluates semantically related paragraphs before merging | Does not modify results after initial evaluation |\n",
    "| **Complexity**        | More complex due to two rounds of similarity evaluation | Suitable for simpler chunking tasks           |\n"
   ]
  }
 ],
 "metadata": {
  "hide_input": false,
  "kernelspec": {
   "display_name": "Python 3 (ipykernel)",
   "language": "python",
   "name": "python3"
  },
  "language_info": {
   "codemirror_mode": {
    "name": "ipython",
    "version": 3
   },
   "file_extension": ".py",
   "mimetype": "text/x-python",
   "name": "python",
   "nbconvert_exporter": "python",
   "pygments_lexer": "ipython3",
   "version": "3.8.17"
  }
 },
 "nbformat": 4,
 "nbformat_minor": 5
}
